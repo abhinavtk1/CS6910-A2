{
  "nbformat": 4,
  "nbformat_minor": 0,
  "metadata": {
    "colab": {
      "provenance": [],
      "authorship_tag": "ABX9TyPHc+5BCP9B3Fmy0709tgHG",
      "include_colab_link": true
    },
    "kernelspec": {
      "name": "python3",
      "display_name": "Python 3"
    },
    "language_info": {
      "name": "python"
    }
  },
  "cells": [
    {
      "cell_type": "markdown",
      "metadata": {
        "id": "view-in-github",
        "colab_type": "text"
      },
      "source": [
        "<a href=\"https://colab.research.google.com/github/abhinavtk1/CS6910-A2/blob/main/main_part_a.ipynb\" target=\"_parent\"><img src=\"https://colab.research.google.com/assets/colab-badge.svg\" alt=\"Open In Colab\"/></a>"
      ]
    },
    {
      "cell_type": "markdown",
      "source": [
        "# MA23M002 - ABHINAV T K\n",
        "# CS6910 - Assignment 2"
      ],
      "metadata": {
        "id": "qoC8KzlvtI18"
      }
    },
    {
      "cell_type": "markdown",
      "source": [
        "**Github repo:** https://github.com/abhinavtk1/CS6910-A2 <br>\n",
        "**Wandb report:**"
      ],
      "metadata": {
        "id": "dK4e6ITitObu"
      }
    },
    {
      "cell_type": "code",
      "source": [
        "%%capture\n",
        "!curl -SL https://storage.googleapis.com/wandb_datasets/nature_12K.zip > nature_12K.zip\n",
        "!unzip nature_12K.zip\n",
        "\n",
        "train = 'inaturalist_12K/train/'\n",
        "test = 'inaturalist_12K/val/'\n"
      ],
      "metadata": {
        "id": "VANUAXj9rFkL"
      },
      "execution_count": null,
      "outputs": []
    },
    {
      "cell_type": "code",
      "source": [
        "classes = ['Amphibia','Animalia','Arachnida','Aves','Fungi',\n",
        "           'Insecta','Mammalia','Mollusca','Plantae','Reptilia']\n"
      ],
      "metadata": {
        "id": "kYFUbsIzv-Pt"
      },
      "execution_count": 3,
      "outputs": []
    },
    {
      "cell_type": "code",
      "source": [
        "# visualization\n",
        "fig = plt.figure(figsize=(18,9))\n",
        "r, c = 2, 5\n",
        "l = 1\n",
        "\n",
        "for item in classes:\n",
        "  loc = os.path.join(test, item)\n",
        "  for img in os.listdir(loc):\n",
        "    img_loc=(os.path.join(loc,img))\n",
        "    img = mpimg.imread(img_loc)\n",
        "    img = cv2.resize(img,(128,128))\n",
        "    fig.add_subplot(r, c, l)\n",
        "    plt.imshow(img)\n",
        "    plt.title(item)\n",
        "    l+=1\n",
        "    break"
      ],
      "metadata": {
        "id": "PWKNwB74rfmS"
      },
      "execution_count": null,
      "outputs": []
    },
    {
      "cell_type": "code",
      "source": [
        "!pip install wandb"
      ],
      "metadata": {
        "id": "CcRYE0BS-QvM"
      },
      "execution_count": null,
      "outputs": []
    },
    {
      "cell_type": "code",
      "source": [
        "import numpy as np\n",
        "import pandas as pd\n",
        "import os\n",
        "import keras\n",
        "import tensorflow as tf\n",
        "#from tensorflow.keras import layers,models\n",
        "#from tensorflow.keras.layers import Conv2D, MaxPooling2D, Dropout, Dense, Flatten, Activation , BatchNormalization\n",
        "#from tensorflow.keras.preprocessing.image import ImageDataGenerator\n",
        "#from wandb.keras import WandbCallback\n",
        "import matplotlib.pyplot as plt\n",
        "import cv2\n",
        "import matplotlib.image as mpimg\n",
        "import wandb\n",
        "import numpy as np\n",
        "from types import SimpleNamespace\n",
        "import random"
      ],
      "metadata": {
        "id": "PQGOS9b7rhiW"
      },
      "execution_count": 15,
      "outputs": []
    },
    {
      "cell_type": "markdown",
      "source": [
        "# Part A: Training from scratch\n"
      ],
      "metadata": {
        "id": "b7mYPhAatqTi"
      }
    },
    {
      "cell_type": "markdown",
      "source": [
        "Question 1"
      ],
      "metadata": {
        "id": "yi6HwA3auBer"
      }
    },
    {
      "cell_type": "markdown",
      "source": [
        "Define model"
      ],
      "metadata": {
        "id": "Eg__UyyTwlQd"
      }
    },
    {
      "cell_type": "code",
      "source": [
        "import torch\n",
        "import torch.nn as nn\n",
        "import torch.optim as optim\n",
        "import torchvision"
      ],
      "metadata": {
        "id": "1FYFPyLDkRcd"
      },
      "execution_count": 16,
      "outputs": []
    },
    {
      "cell_type": "code",
      "source": [
        "# Reference: https://machinelearningmastery.com/building-a-convolutional-neural-network-in-pytorch/\n",
        "\n",
        "class CNN(nn.Module):\n",
        "    def __init__(self, num_filters = [32,32,64,64,128], kernel_size = [3]*5,\n",
        "                 act_fn = 'relu', num_neurons = 512):\n",
        "        super().__init__()\n",
        "\n",
        "        #Conv layer 1\n",
        "        self.conv1 = nn.Conv2d(3, num_filters[0],\n",
        "                               kernel_size=(kernel_size[0],kernel_size[0]),\n",
        "                               stride=1, padding='same')\n",
        "        if act_fn=='relu':\n",
        "          self.act1 = nn.ReLU()\n",
        "        elif act_fn=='tanh':\n",
        "          self.act1 = nn.Tanh()\n",
        "        elif act_fn=='sigmoid':\n",
        "          self.act1 = nn.Sigmoid()\n",
        "        self.pool1 = nn.MaxPool2d(2,2)\n",
        "\n",
        "        #Conv layer 2\n",
        "        self.conv2 = nn.Conv2d(num_filters[0], num_filters[1],\n",
        "                               kernel_size=(kernel_size[1],kernel_size[1]),\n",
        "                               stride=1, padding='same')\n",
        "        if act_fn=='relu':\n",
        "          self.act2 = nn.ReLU()\n",
        "        elif act_fn=='tanh':\n",
        "          self.act2 = nn.Tanh()\n",
        "        elif act_fn=='sigmoid':\n",
        "          self.act2 = nn.Sigmoid()\n",
        "        self.pool2 = nn.MaxPool2d(2,2)\n",
        "\n",
        "        #Conv layer 3\n",
        "        self.conv3 = nn.Conv2d(num_filters[1], num_filters[2],\n",
        "                               kernel_size=(kernel_size[2],kernel_size[2]),\n",
        "                               stride=1, padding='same')\n",
        "        if act_fn=='relu':\n",
        "          self.act3 = nn.ReLU()\n",
        "        elif act_fn=='tanh':\n",
        "          self.act3 = nn.Tanh()\n",
        "        elif act_fn=='sigmoid':\n",
        "          self.act3 = nn.Sigmoid()\n",
        "        self.pool3 = nn.MaxPool2d(2,2)\n",
        "\n",
        "        #Conv layer 4\n",
        "        self.conv4 = nn.Conv2d(num_filters[2], num_filters[3],\n",
        "                               kernel_size=(kernel_size[3],kernel_size[3]),\n",
        "                               stride=1, padding='same')\n",
        "        if act_fn=='relu':\n",
        "          self.act4 = nn.ReLU()\n",
        "        elif act_fn=='tanh':\n",
        "          self.act4 = nn.Tanh()\n",
        "        elif act_fn=='sigmoid':\n",
        "          self.act4 = nn.Sigmoid()\n",
        "        self.pool4 = nn.MaxPool2d(2,2)\n",
        "\n",
        "        #Conv layer 5\n",
        "        self.conv5 = nn.Conv2d(num_filters[3], num_filters[4],\n",
        "                               kernel_size=(kernel_size[4],kernel_size[4]),\n",
        "                               stride=1, padding='same')\n",
        "        if act_fn=='relu':\n",
        "          self.act5 = nn.ReLU()\n",
        "        elif act_fn=='tanh':\n",
        "          self.act5 = nn.Tanh()\n",
        "        elif act_fn=='sigmoid':\n",
        "          self.act5 = nn.Sigmoid()\n",
        "        self.pool5 = nn.MaxPool2d(2,2)\n",
        "\n",
        "        # Flatten\n",
        "        self.flatten = nn.Flatten()\n",
        "\n",
        "        # dense layer\n",
        "        self.fc6 = nn.Linear(2048, num_neurons)\n",
        "        if act_fn=='relu':\n",
        "          self.act6 = nn.ReLU()\n",
        "        elif act_fn=='tanh':\n",
        "          self.act6 = nn.Tanh()\n",
        "        elif act_fn=='sigmoid':\n",
        "          self.act6 = nn.Sigmoid()\n",
        "\n",
        "        # output layer\n",
        "        self.fc7 = nn.Linear(num_neurons, 10)\n",
        "\n",
        "\n",
        "    def forward(self, x):\n",
        "        # input 3x128x128, output 32x128x128\n",
        "        x = self.act1(self.conv1(x))\n",
        "        # input 32x128x128, output 32x64x64\n",
        "        x = self.pool1(x)\n",
        "\n",
        "        # input 32x64x64, output 32x64x64\n",
        "        x = self.act2(self.conv2(x))\n",
        "        # input 32x64x64, output 32x32x32\n",
        "        x = self.pool2(x)\n",
        "\n",
        "        # input 32x32x32, output 64x32x32\n",
        "        x = self.act3(self.conv3(x))\n",
        "        # input 64x32x32, output 64x16x16\n",
        "        x = self.pool3(x)\n",
        "\n",
        "        # input 64x16x16, output 64x16x16\n",
        "        x = self.act4(self.conv4(x))\n",
        "        # input 64x16x16, output 64x8x8\n",
        "        x = self.pool4(x)\n",
        "\n",
        "        # input 64x8x8, output 128x8x8\n",
        "        x = self.act5(self.conv5(x))\n",
        "        # input 128x8x8, output 128x4x4\n",
        "        x = self.pool5(x)\n",
        "\n",
        "        # input 128,4,4 output 2048\n",
        "        x = self.flatten(x)\n",
        "\n",
        "        # input 2048, output 512\n",
        "        x = self.act6(self.fc6(x))\n",
        "\n",
        "        # input 512, output 10\n",
        "        x = self.fc7(x)\n",
        "        return x\n",
        "\n",
        "    def train(self, model, loss_fn, optimizer, dataloader_train, dataloader_val, n_epochs = 10):\n",
        "        for epoch in range(n_epochs):\n",
        "            for inputs, labels in dataloader_train:\n",
        "                # forward, backward, and then weight update\n",
        "                inputs = inputs.to(device)\n",
        "                labels = labels.to(device)\n",
        "                # Forward pass\n",
        "                y_pred = model(inputs)\n",
        "                loss = loss_fn(y_pred, labels)\n",
        "\n",
        "                optimizer.zero_grad()\n",
        "                loss.backward()\n",
        "                optimizer.step()\n",
        "\n",
        "            val_accuracy = 0\n",
        "            count = 0\n",
        "            for inputs, labels in dataloader_val:\n",
        "                inputs = inputs.to(device)\n",
        "                labels = labels.to(device)\n",
        "                y_pred = model(inputs)\n",
        "                val_accuracy += (torch.argmax(y_pred, 1) == labels).float().sum()\n",
        "                count += len(labels)\n",
        "            val_accuracy /= count\n",
        "            print(\"Epoch %d: model accuracy %.2f%%\" % (epoch, val_accuracy*100))\n",
        "            wandb.log({ 'epoch': epoch, 'validation_accuracy': val_accuracy * 100})"
      ],
      "metadata": {
        "id": "CMoS4vGBkS6D"
      },
      "execution_count": 18,
      "outputs": []
    },
    {
      "cell_type": "code",
      "source": [
        "# Loading data\n",
        "import torch\n",
        "from torchvision import transforms, datasets\n",
        "from torch.utils.data import random_split\n",
        "\n",
        "# Connect to google drive\n",
        "from google.colab import drive\n",
        "drive.mount('/content/drive')\n",
        "\n",
        "train_dir = '/content/drive/MyDrive/CS6910-A2/train'\n",
        "test_dir = '/content/drive/MyDrive/CS6910-A2/val'\n",
        "IMG_SIZE = (128,128)\n",
        "batch_size = 32\n",
        "\n",
        "# Transformations to apply to the images\n",
        "transform = transforms.Compose([\n",
        "    transforms.Resize(IMG_SIZE),  # Resize the images\n",
        "    transforms.ToTensor(),\n",
        "    transforms.Normalize((0.5, 0.5, 0.5), (0.5, 0.5, 0.5)) ])           # Convert images to PyTorch tensors\n",
        "    #transforms.Normalize(mean=[0.485, 0.456, 0.406], std=[0.229, 0.224, 0.225])  # Normalize the images\n",
        "\n",
        "\n",
        "# Use ImageFolder to create a dataset\n",
        "trainset = datasets.ImageFolder(root=train_dir, transform=transform)\n",
        "val_size = int(0.1 * len(trainset))\n",
        "train_size = len(trainset) - val_size\n",
        "trainset, valset = random_split(trainset, [train_size, val_size])\n",
        "\n",
        "testset = datasets.ImageFolder(root=test_dir, transform=transform)\n",
        "\n",
        "# DataLoader for the dataset\n",
        "dataloader_train = torch.utils.data.DataLoader(trainset, batch_size = batch_size, shuffle=True)\n",
        "dataloader_val = torch.utils.data.DataLoader(valset, batch_size = batch_size, shuffle=True)\n",
        "dataloader_test = torch.utils.data.DataLoader(testset, batch_size = batch_size, shuffle=True)\n"
      ],
      "metadata": {
        "colab": {
          "base_uri": "https://localhost:8080/"
        },
        "id": "SreiFXCCCkd6",
        "outputId": "ee3f7121-6043-4f10-a8a3-c5b20218aef2"
      },
      "execution_count": 19,
      "outputs": [
        {
          "output_type": "stream",
          "name": "stdout",
          "text": [
            "Drive already mounted at /content/drive; to attempt to forcibly remount, call drive.mount(\"/content/drive\", force_remount=True).\n"
          ]
        }
      ]
    },
    {
      "cell_type": "code",
      "source": [
        "# Device configuration\n",
        "device = torch.device('cuda' if torch.cuda.is_available() else 'cpu')"
      ],
      "metadata": {
        "id": "AU1tnX6PlOX5"
      },
      "execution_count": 20,
      "outputs": []
    },
    {
      "cell_type": "code",
      "source": [],
      "metadata": {
        "id": "7VN9v8HNwRJN"
      },
      "execution_count": null,
      "outputs": []
    },
    {
      "cell_type": "markdown",
      "source": [
        "Q2. Training the inaturalist dataset"
      ],
      "metadata": {
        "id": "kH_PhVLNt817"
      }
    },
    {
      "cell_type": "code",
      "source": [
        "# sweep config file\n",
        "sweep_config = {\n",
        "    'method': 'random',\n",
        "    'name' : 'sweep - demo2',\n",
        "    'metric': {\n",
        "      'goal': 'maximize',\n",
        "      'name': 'validation_accuracy'\n",
        "    },\n",
        "    'parameters': {\n",
        "        'filters_num':{\n",
        "            'values': [[32]*5,[32,32,64,64,128],[32,64,64,128,128],[128]*5]\n",
        "        },\n",
        "        'act_fn': {\n",
        "            'values': ['relu', 'gelu', 'silu', 'mish', 'tanh'] # nn.ReLU nn.GELU nn.SiLU nn.Mish nn.Tanh\n",
        "        },\n",
        "        'data_augmentation': {          # add\n",
        "            'values': ['yes','no']\n",
        "        },\n",
        "        'batch_normalisation':{       # add\n",
        "            'values': ['yes','no']\n",
        "        },\n",
        "        'dropout': {                  # add\n",
        "            'values': [0, 0.2, 0.3]\n",
        "        },\n",
        "        'learning_rate': {\n",
        "            'values': [1e-3, 1e-4]\n",
        "        },\n",
        "        'batch_size': {               # add\n",
        "            'values': [32, 64, 128]\n",
        "        },\n",
        "        'kernel_size':{\n",
        "            'values': [[3]*5, [3, 5, 5, 7, 7], [5]*5, [7]*7, [7, 5, 5, 3, 3] ]\n",
        "        },\n",
        "        'num_neurons_dense':{\n",
        "            'values': [128, 256, 512, 1028]\n",
        "        },\n",
        "        'epochs':{\n",
        "            'values': [10, 20, 30]\n",
        "        }\n",
        "    }\n",
        "}"
      ],
      "metadata": {
        "id": "T8TsuLqgt7Ii"
      },
      "execution_count": 27,
      "outputs": []
    },
    {
      "cell_type": "code",
      "source": [
        "# Create a sweep\n",
        "sweep_id = wandb.sweep(sweep = sweep_config, entity=\"abhinavtk\", project='a2_demo')\n",
        "\n",
        "# Export data to wandb\n",
        "#wandb.log({ 'epoch': epoch, 'loss': cost, 'accuracy': accuracy * 100})\n",
        "#wandb.log({ 'epoch': epoch, 'validation_loss': val_cost, 'validation_accuracy': val_accuracy * 100})\n"
      ],
      "metadata": {
        "colab": {
          "base_uri": "https://localhost:8080/"
        },
        "id": "Bo1UdR6vt3-H",
        "outputId": "79a9adc9-f3b6-494c-dc45-dba7520ac61f"
      },
      "execution_count": 28,
      "outputs": [
        {
          "output_type": "stream",
          "name": "stdout",
          "text": [
            "Create sweep with ID: 99wgcr4i\n",
            "Sweep URL: https://wandb.ai/abhinavtk/a2_demo/sweeps/99wgcr4i\n"
          ]
        }
      ]
    },
    {
      "cell_type": "code",
      "source": [
        "def main():\n",
        "  with wandb.init() as run:\n",
        "    run_name = \"-#fil_\"+str(wandb.config.filters_num)+\"-ac_fn_\"+wandb.config.act_fn+\"-d_aug_\"\\\n",
        "                  +wandb.config.data_augmentation + \"-norm_\"+wandb.config.batch_normalisation + \"-bs_\"\\\n",
        "                  +str(wandb.config.batch_size) + \"-lr_\"+str(wandb.config.learning_rate)+\\\n",
        "                  \"-ep_\"+str(wandb.config.epochs)\n",
        "\n",
        "    wandb.run.name = run_name\n",
        "\n",
        "    model = CNN(num_filters = wandb.config.filters_num, kernel_size = wandb.config.kernel_size,\n",
        "                 act_fn = wandb.config.act_fn, num_neurons = wandb.config.num_neurons_dense).to(device)\n",
        "    loss_fn = nn.CrossEntropyLoss()\n",
        "    optimizer = optim.SGD(model.parameters(), lr=wandb.config.learning_rate, momentum=0.9)\n",
        "    model.train(model, loss_fn, optimizer, dataloader_train, dataloader_val, n_epochs = wandb.config.epochs)\n",
        "wandb.agent(sweep_id, function = main, count = 100) # calls main function for count number of times\n",
        "wandb.finish()"
      ],
      "metadata": {
        "id": "IqzQfrHN0QZP"
      },
      "execution_count": null,
      "outputs": []
    },
    {
      "cell_type": "code",
      "source": [],
      "metadata": {
        "id": "82Ljnhgi6Yst"
      },
      "execution_count": null,
      "outputs": []
    }
  ]
}