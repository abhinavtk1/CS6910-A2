{
  "cells": [
    {
      "cell_type": "markdown",
      "metadata": {
        "id": "view-in-github",
        "colab_type": "text"
      },
      "source": [
        "<a href=\"https://colab.research.google.com/github/abhinavtk1/CS6910-A2/blob/main/main_part_a.ipynb\" target=\"_parent\"><img src=\"https://colab.research.google.com/assets/colab-badge.svg\" alt=\"Open In Colab\"/></a>"
      ]
    },
    {
      "cell_type": "markdown",
      "metadata": {
        "id": "qoC8KzlvtI18"
      },
      "source": [
        "# MA23M002 - ABHINAV T K\n",
        "# CS6910 - Assignment 2"
      ]
    },
    {
      "cell_type": "markdown",
      "metadata": {
        "id": "dK4e6ITitObu"
      },
      "source": [
        "**Github repo:** https://github.com/abhinavtk1/CS6910-A2 <br>\n",
        "**Wandb report:**"
      ]
    },
    {
      "cell_type": "code",
      "execution_count": null,
      "metadata": {
        "id": "PQGOS9b7rhiW"
      },
      "outputs": [],
      "source": [
        "import numpy as np\n",
        "import pandas as pd\n",
        "import os\n",
        "import matplotlib.pyplot as plt\n",
        "import cv2\n",
        "import matplotlib.image as mpimg\n",
        "import wandb\n",
        "import numpy as np\n",
        "import random\n",
        "import torch\n",
        "import torch.nn as nn\n",
        "import torch.optim as optim\n",
        "import torchvision\n",
        "from torch.utils.data import random_split"
      ]
    },
    {
      "cell_type": "code",
      "execution_count": null,
      "metadata": {
        "id": "VANUAXj9rFkL"
      },
      "outputs": [],
      "source": [
        "train = 'train/'\n",
        "test = 'val/'"
      ]
    },
    {
      "cell_type": "code",
      "execution_count": null,
      "metadata": {
        "id": "kYFUbsIzv-Pt"
      },
      "outputs": [],
      "source": [
        "classes = ['Amphibia','Animalia','Arachnida','Aves','Fungi',\n",
        "           'Insecta','Mammalia','Mollusca','Plantae','Reptilia']\n",
        "IMG_SIZE = (128,128)"
      ]
    },
    {
      "cell_type": "code",
      "execution_count": null,
      "metadata": {
        "id": "PWKNwB74rfmS"
      },
      "outputs": [],
      "source": [
        "# visualization of each classes\n",
        "fig = plt.figure(figsize=(18,9))\n",
        "r, c = 2, 5\n",
        "l = 1\n",
        "\n",
        "for item in classes:\n",
        "  loc = os.path.join(test, item)\n",
        "  for img in os.listdir(loc):\n",
        "    img_loc=(os.path.join(loc,img))\n",
        "    img = mpimg.imread(img_loc)\n",
        "    img = cv2.resize(img,IMG_SIZE)\n",
        "    fig.add_subplot(r, c, l)\n",
        "    plt.imshow(img)\n",
        "    plt.title(item)\n",
        "    l+=1\n",
        "    break"
      ]
    },
    {
      "cell_type": "code",
      "execution_count": null,
      "metadata": {
        "id": "t9BAE6kSec31"
      },
      "outputs": [],
      "source": []
    },
    {
      "cell_type": "markdown",
      "metadata": {
        "id": "b7mYPhAatqTi"
      },
      "source": [
        "# Part A: Training from scratch\n"
      ]
    },
    {
      "cell_type": "markdown",
      "metadata": {
        "id": "yi6HwA3auBer"
      },
      "source": [
        "Question 1"
      ]
    },
    {
      "cell_type": "markdown",
      "metadata": {
        "id": "Eg__UyyTwlQd"
      },
      "source": [
        "Define model"
      ]
    },
    {
      "cell_type": "code",
      "execution_count": null,
      "metadata": {
        "id": "1FYFPyLDkRcd"
      },
      "outputs": [],
      "source": []
    },
    {
      "cell_type": "code",
      "execution_count": null,
      "metadata": {
        "id": "SreiFXCCCkd6"
      },
      "outputs": [],
      "source": [
        "# Data preparation\n",
        "\n",
        "# Connect to google drive\n",
        "#from google.colab import drive\n",
        "#drive.mount('/content/drive')\n",
        "from torchvision import transforms, datasets\n",
        "train_dir = 'train'\n",
        "test_dir = 'val'\n",
        "IMG_SIZE = (128,128)\n",
        "batch_size = 64\n",
        "\n",
        "# Transformations to apply to the images\n",
        "transform = transforms.Compose([\n",
        "    transforms.Resize(IMG_SIZE),  # Resize the images\n",
        "    transforms.ToTensor(),\n",
        "    transforms.Normalize((0.5, 0.5, 0.5), (0.5, 0.5, 0.5)) ])           # Convert images to PyTorch tensors\n",
        "    #transforms.Normalize(mean=[0.485, 0.456, 0.406], std=[0.229, 0.224, 0.225])  # Normalize the images\n",
        "\n",
        "\n",
        "# Use ImageFolder to create a dataset\n",
        "trainset = datasets.ImageFolder(root=train_dir, transform=transform)\n",
        "val_size = int(0.2 * len(trainset))\n",
        "train_size = len(trainset) - val_size\n",
        "trainset, valset = random_split(trainset, [train_size, val_size])\n",
        "testset = datasets.ImageFolder(root=test_dir, transform=transform)\n",
        "\n",
        "\n"
      ]
    },
    {
      "cell_type": "code",
      "execution_count": null,
      "metadata": {
        "id": "CMoS4vGBkS6D"
      },
      "outputs": [],
      "source": [
        "# Reference: https://machinelearningmastery.com/building-a-convolutional-neural-network-in-pytorch/\n",
        "\n",
        "class CNN(nn.Module):\n",
        "    def __init__(self, trainset, valset, batch_size = 32, num_filters = [32,64,64,128,128], kernel_size = [3]*5,\n",
        "                 act_fn = 'relu', num_neurons = 512):\n",
        "        super().__init__()\n",
        "\n",
        "        # DataLoader for the dataset\n",
        "        self.dataloader_train = torch.utils.data.DataLoader(trainset, batch_size = batch_size, shuffle=True)\n",
        "        self.dataloader_val = torch.utils.data.DataLoader(valset, batch_size = batch_size, shuffle=True)\n",
        "        #dataloader_test = torch.utils.data.DataLoader(testset, batch_size = batch_size, shuffle=True)\n",
        "\n",
        "        #Conv layer 1\n",
        "        self.conv1 = nn.Conv2d(3, num_filters[0],\n",
        "                               kernel_size=(kernel_size[0],kernel_size[0]),\n",
        "                               stride=1, padding='same')\n",
        "        #x = (128 - kernel_size[0] + 2)/1 + 1\n",
        "        x = 128           # img size\n",
        "        if act_fn=='relu':          #nn.ReLU nn.GELU nn.SiLU nn.Mish nn.Tanh\n",
        "          self.act1 = nn.ReLU()\n",
        "        elif act_fn=='tanh':\n",
        "          self.act1 = nn.Tanh()\n",
        "        elif act_fn=='gelu':\n",
        "          self.act1 = nn.GELU()\n",
        "        elif act_fn=='silu':\n",
        "          self.act1 = nn.SiLU()\n",
        "        elif act_fn=='mish':\n",
        "          self.act1 = nn.Mish()\n",
        "        self.pool1 = nn.MaxPool2d(2,2)\n",
        "        x = x//2\n",
        "\n",
        "        #Conv layer 2\n",
        "        self.conv2 = nn.Conv2d(num_filters[0], num_filters[1],\n",
        "                               kernel_size=(kernel_size[1],kernel_size[1]),\n",
        "                               stride=1, padding='same')\n",
        "        #x = (x - kernel_size[1] + 2)/1 + 1\n",
        "\n",
        "        if act_fn=='relu':\n",
        "          self.act2 = nn.ReLU()\n",
        "        elif act_fn=='tanh':\n",
        "          self.act2 = nn.Tanh()\n",
        "        elif act_fn=='gelu':\n",
        "          self.act2 = nn.GELU()\n",
        "        elif act_fn=='silu':\n",
        "          self.act2 = nn.SiLU()\n",
        "        elif act_fn=='mish':\n",
        "          self.act2 = nn.Mish()\n",
        "        self.pool2 = nn.MaxPool2d(2,2)\n",
        "        x = x//2\n",
        "\n",
        "        #Conv layer 3\n",
        "        self.conv3 = nn.Conv2d(num_filters[1], num_filters[2],\n",
        "                               kernel_size=(kernel_size[2],kernel_size[2]),\n",
        "                               stride=1, padding='same')\n",
        "\n",
        "        if act_fn=='relu':\n",
        "          self.act3 = nn.ReLU()\n",
        "        elif act_fn=='tanh':\n",
        "          self.act3 = nn.Tanh()\n",
        "        elif act_fn=='gelu':\n",
        "          self.act3 = nn.GELU()\n",
        "        elif act_fn=='silu':\n",
        "          self.act3 = nn.SiLU()\n",
        "        elif act_fn=='mish':\n",
        "          self.act3 = nn.Mish()\n",
        "        self.pool3 = nn.MaxPool2d(2,2)\n",
        "        x = x//2\n",
        "\n",
        "        #Conv layer 4\n",
        "        self.conv4 = nn.Conv2d(num_filters[2], num_filters[3],\n",
        "                               kernel_size=(kernel_size[3],kernel_size[3]),\n",
        "                               stride=1, padding='same')\n",
        "\n",
        "        if act_fn=='relu':\n",
        "          self.act4 = nn.ReLU()\n",
        "        elif act_fn=='tanh':\n",
        "          self.act4 = nn.Tanh()\n",
        "        elif act_fn=='gelu':\n",
        "          self.act4 = nn.GELU()\n",
        "        elif act_fn=='silu':\n",
        "          self.act4 = nn.SiLU()\n",
        "        elif act_fn=='mish':\n",
        "          self.act4 = nn.Mish()\n",
        "        self.pool4 = nn.MaxPool2d(2,2)\n",
        "        x = x//2\n",
        "\n",
        "        #Conv layer 5\n",
        "        self.conv5 = nn.Conv2d(num_filters[3], num_filters[4],\n",
        "                               kernel_size=(kernel_size[4],kernel_size[4]),\n",
        "                               stride=1, padding='same')\n",
        "\n",
        "        if act_fn=='relu':\n",
        "          self.act5 = nn.ReLU()\n",
        "        elif act_fn=='tanh':\n",
        "          self.act5 = nn.Tanh()\n",
        "        elif act_fn=='gelu':\n",
        "          self.act5 = nn.GELU()\n",
        "        elif act_fn=='silu':\n",
        "          self.act5 = nn.SiLU()\n",
        "        elif act_fn=='mish':\n",
        "          self.act5 = nn.Mish()\n",
        "        self.pool5 = nn.MaxPool2d(2,2)\n",
        "        x = x//2\n",
        "        x = x*x*num_filters[4]\n",
        "        #print(x)\n",
        "\n",
        "        # Flatten\n",
        "        self.flatten = nn.Flatten()\n",
        "\n",
        "        # dense layer\n",
        "        self.fc6 = nn.Linear(x, num_neurons)\n",
        "        if act_fn=='relu':\n",
        "          self.act6 = nn.ReLU()\n",
        "        elif act_fn=='tanh':\n",
        "          self.act6 = nn.Tanh()\n",
        "        elif act_fn=='gelu':\n",
        "          self.act6 = nn.GELU()\n",
        "        elif act_fn=='silu':\n",
        "          self.act6 = nn.SiLU()\n",
        "        elif act_fn=='mish':\n",
        "          self.act6 = nn.Mish()\n",
        "        # output layer\n",
        "        self.fc7 = nn.Linear(num_neurons, 10)\n",
        "\n",
        "\n",
        "    def forward(self, x):\n",
        "        # input 3x128x128, output 32x128x128\n",
        "        x = self.act1(self.conv1(x))\n",
        "        # input 32x128x128, output 32x64x64\n",
        "        x = self.pool1(x)\n",
        "\n",
        "        # input 32x64x64, output 32x64x64\n",
        "        x = self.act2(self.conv2(x))\n",
        "        # input 32x64x64, output 32x32x32\n",
        "        x = self.pool2(x)\n",
        "\n",
        "        # input 32x32x32, output 64x32x32\n",
        "        x = self.act3(self.conv3(x))\n",
        "        # input 64x32x32, output 64x16x16\n",
        "        x = self.pool3(x)\n",
        "\n",
        "        # input 64x16x16, output 64x16x16\n",
        "        x = self.act4(self.conv4(x))\n",
        "        # input 64x16x16, output 64x8x8\n",
        "        x = self.pool4(x)\n",
        "\n",
        "        # input 64x8x8, output 128x8x8\n",
        "        x = self.act5(self.conv5(x))\n",
        "        # input 128x8x8, output 128x4x4\n",
        "        x = self.pool5(x)\n",
        "\n",
        "        # input 128,4,4 output 2048\n",
        "        x = self.flatten(x)\n",
        "\n",
        "        # input 2048, output 512\n",
        "        x = self.act6(self.fc6(x))\n",
        "\n",
        "        # input 512, output 10\n",
        "        x = self.fc7(x)\n",
        "        return x\n",
        "\n",
        "    def train(self, model, loss_fn, optimizer, n_epochs = 10):\n",
        "        for epoch in range(n_epochs):\n",
        "            train_accuracy = 0\n",
        "            count = 0\n",
        "            for inputs, labels in self.dataloader_train:\n",
        "                # forward, backward, and then weight update\n",
        "                inputs = inputs #.to(device)\n",
        "                labels = labels #.to(device)\n",
        "                # Forward pass\n",
        "                y_pred = model(inputs)\n",
        "                loss = loss_fn(y_pred, labels)\n",
        "                train_accuracy += (torch.argmax(y_pred, 1) == labels).float().sum()\n",
        "                count += len(labels)\n",
        "                optimizer.zero_grad()\n",
        "                loss.backward()\n",
        "                optimizer.step()\n",
        "            train_accuracy /= count\n",
        "            print(\"Epoch %d: model train accuracy %.2f%%\" % (epoch, train_accuracy*100))\n",
        "            wandb.log({ 'epoch': epoch, 'train_accuracy': train_accuracy * 100})\n",
        "\n",
        "            val_accuracy = 0\n",
        "            count = 0\n",
        "            for inputs, labels in self.dataloader_val:\n",
        "                inputs = inputs #.to(device)\n",
        "                labels = labels #.to(device)\n",
        "                y_pred = model(inputs)\n",
        "                val_loss = loss_fn(y_pred, labels)\n",
        "                val_accuracy += (torch.argmax(y_pred, 1) == labels).float().sum()\n",
        "                count += len(labels)\n",
        "            val_accuracy /= count\n",
        "            print(\"Epoch %d: model validation accuracy %.2f%%\" % (epoch, val_accuracy*100))\n",
        "            wandb.log({ 'epoch': epoch, 'validation_accuracy': val_accuracy * 100})\n",
        "            wandb.log({ 'epoch': epoch, 'validation_loss': val_loss * 100})"
      ]
    },
    {
      "cell_type": "code",
      "execution_count": null,
      "metadata": {
        "id": "AU1tnX6PlOX5"
      },
      "outputs": [],
      "source": [
        "# Device configuration\n",
        "device = torch.device('cuda' if torch.cuda.is_available() else 'cpu')"
      ]
    },
    {
      "cell_type": "code",
      "execution_count": null,
      "metadata": {
        "id": "SdC8A7w2ec33",
        "outputId": "cc9e416f-ec8f-43e9-8931-30bb91b9c592"
      },
      "outputs": [
        {
          "name": "stdout",
          "output_type": "stream",
          "text": [
            "cpu\n"
          ]
        }
      ],
      "source": [
        "print(device)"
      ]
    },
    {
      "cell_type": "markdown",
      "metadata": {
        "id": "kH_PhVLNt817"
      },
      "source": [
        "Q2. Training the inaturalist dataset"
      ]
    },
    {
      "cell_type": "code",
      "execution_count": null,
      "metadata": {
        "id": "T8TsuLqgt7Ii"
      },
      "outputs": [],
      "source": [
        "# sweep config file\n",
        "sweep_config = {\n",
        "    'method': 'bayes',\n",
        "    'name' : 'sweep - test2',\n",
        "    'metric': {\n",
        "      'goal': 'maximize',\n",
        "      'name': 'validation_accuracy'\n",
        "    },\n",
        "    'parameters': {\n",
        "        'filters_num':{\n",
        "            'values': [[32]*5,[32,32,64,64,128],[32,64,64,128,128],[64]*5]\n",
        "        },\n",
        "        'act_fn': {\n",
        "            'values': ['relu', 'gelu', 'silu', 'mish', 'tanh'] # nn.ReLU nn.GELU nn.SiLU nn.Mish nn.Tanh\n",
        "        },\n",
        "        'data_augmentation': {          # add\n",
        "            'values': ['yes'] #,'no']\n",
        "        },\n",
        "        'batch_normalisation':{       # add\n",
        "            'values': ['yes'] #,'no']\n",
        "        },\n",
        "        'dropout': {                  # add\n",
        "            'values': [0] #, 0.2, 0.3]\n",
        "        },\n",
        "        'learning_rate': {\n",
        "            'values': [1e-3, 1e-4]\n",
        "        },\n",
        "        'batch_size': {               # add\n",
        "            'values': [32, 64, 128]\n",
        "        },\n",
        "        'kernel_size':{\n",
        "            'values': [[3]*5, [3, 5, 5, 7, 7], [5]*5, [7]*7, [7, 5, 5, 3, 3] ]\n",
        "        },\n",
        "        'num_neurons_dense':{\n",
        "            'values': [128, 256, 512] #, 1028]\n",
        "        },\n",
        "        'epochs':{\n",
        "            'values': [10] #, 20, 30]\n",
        "        }\n",
        "    }\n",
        "}"
      ]
    },
    {
      "cell_type": "code",
      "execution_count": null,
      "metadata": {
        "colab": {
          "base_uri": "https://localhost:8080/"
        },
        "id": "Bo1UdR6vt3-H",
        "outputId": "61c4ce93-1139-4877-9816-adace2de6c10"
      },
      "outputs": [
        {
          "name": "stdout",
          "output_type": "stream",
          "text": [
            "Create sweep with ID: hrmc7gn3\n",
            "Sweep URL: https://wandb.ai/abhinavtk/a2_demo/sweeps/hrmc7gn3\n"
          ]
        }
      ],
      "source": [
        "# Create a sweep\n",
        "sweep_id = wandb.sweep(sweep = sweep_config, entity=\"abhinavtk\", project='a2_demo')\n",
        "\n",
        "# Export data to wandb\n",
        "#wandb.log({ 'epoch': epoch, 'loss': cost, 'accuracy': accuracy * 100})\n",
        "#wandb.log({ 'epoch': epoch, 'validation_loss': val_cost, 'validation_accuracy': val_accuracy * 100})\n",
        "# 4966bf774ea7ce7b47a6e7360b1fad927ece6f1c"
      ]
    },
    {
      "cell_type": "code",
      "execution_count": null,
      "metadata": {
        "id": "-t8KBPNfec34",
        "outputId": "9a110a5f-b3d5-402b-bc6e-6962399724ff"
      },
      "outputs": [
        {
          "name": "stderr",
          "output_type": "stream",
          "text": [
            "\u001b[34m\u001b[1mwandb\u001b[0m: Agent Starting Run: cet1myl7 with config:\n",
            "\u001b[34m\u001b[1mwandb\u001b[0m: \tact_fn: gelu\n",
            "\u001b[34m\u001b[1mwandb\u001b[0m: \tbatch_normalisation: yes\n",
            "\u001b[34m\u001b[1mwandb\u001b[0m: \tbatch_size: 64\n",
            "\u001b[34m\u001b[1mwandb\u001b[0m: \tdata_augmentation: yes\n",
            "\u001b[34m\u001b[1mwandb\u001b[0m: \tdropout: 0.3\n",
            "\u001b[34m\u001b[1mwandb\u001b[0m: \tepochs: 10\n",
            "\u001b[34m\u001b[1mwandb\u001b[0m: \tfilters_num: [32, 64, 64, 128, 128]\n",
            "\u001b[34m\u001b[1mwandb\u001b[0m: \tkernel_size: [3, 3, 3, 3, 3]\n",
            "\u001b[34m\u001b[1mwandb\u001b[0m: \tlearning_rate: 0.001\n",
            "\u001b[34m\u001b[1mwandb\u001b[0m: \tnum_neurons_dense: 256\n"
          ]
        },
        {
          "data": {
            "text/html": [
              "Tracking run with wandb version 0.16.5"
            ],
            "text/plain": [
              "<IPython.core.display.HTML object>"
            ]
          },
          "metadata": {},
          "output_type": "display_data"
        },
        {
          "data": {
            "text/html": [
              "Run data is saved locally in <code>C:\\Users\\abhin\\Documents\\a2\\wandb\\run-20240402_012635-cet1myl7</code>"
            ],
            "text/plain": [
              "<IPython.core.display.HTML object>"
            ]
          },
          "metadata": {},
          "output_type": "display_data"
        },
        {
          "data": {
            "text/html": [
              "Syncing run <strong><a href='https://wandb.ai/abhinavtk/a2_demo/runs/cet1myl7/workspace' target=\"_blank\">serene-sweep-1</a></strong> to <a href='https://wandb.ai/abhinavtk/a2_demo' target=\"_blank\">Weights & Biases</a> (<a href='https://wandb.me/run' target=\"_blank\">docs</a>)<br/>Sweep page: <a href='https://wandb.ai/abhinavtk/a2_demo/sweeps/hrmc7gn3' target=\"_blank\">https://wandb.ai/abhinavtk/a2_demo/sweeps/hrmc7gn3</a>"
            ],
            "text/plain": [
              "<IPython.core.display.HTML object>"
            ]
          },
          "metadata": {},
          "output_type": "display_data"
        },
        {
          "data": {
            "text/html": [
              " View project at <a href='https://wandb.ai/abhinavtk/a2_demo' target=\"_blank\">https://wandb.ai/abhinavtk/a2_demo</a>"
            ],
            "text/plain": [
              "<IPython.core.display.HTML object>"
            ]
          },
          "metadata": {},
          "output_type": "display_data"
        },
        {
          "data": {
            "text/html": [
              " View sweep at <a href='https://wandb.ai/abhinavtk/a2_demo/sweeps/hrmc7gn3' target=\"_blank\">https://wandb.ai/abhinavtk/a2_demo/sweeps/hrmc7gn3</a>"
            ],
            "text/plain": [
              "<IPython.core.display.HTML object>"
            ]
          },
          "metadata": {},
          "output_type": "display_data"
        },
        {
          "data": {
            "text/html": [
              " View run at <a href='https://wandb.ai/abhinavtk/a2_demo/runs/cet1myl7/workspace' target=\"_blank\">https://wandb.ai/abhinavtk/a2_demo/runs/cet1myl7/workspace</a>"
            ],
            "text/plain": [
              "<IPython.core.display.HTML object>"
            ]
          },
          "metadata": {},
          "output_type": "display_data"
        }
      ],
      "source": [
        "def main():\n",
        "  with wandb.init() as run:\n",
        "    run_name = \"-#fil_\"+str(wandb.config.filters_num)+\"-ac_fn_\"+wandb.config.act_fn+\"-d_aug_\"\\\n",
        "                  +wandb.config.data_augmentation + \"-norm_\"+wandb.config.batch_normalisation + \"-bs_\"\\\n",
        "                  +str(wandb.config.batch_size) + \"-lr_\"+str(wandb.config.learning_rate)+\\\n",
        "                  \"-ep_\"+str(wandb.config.epochs)\n",
        "\n",
        "    wandb.run.name = run_name\n",
        "\n",
        "    model = CNN(trainset, valset, num_filters = wandb.config.filters_num, kernel_size = wandb.config.kernel_size,\n",
        "                 act_fn = wandb.config.act_fn, num_neurons = wandb.config.num_neurons_dense)\n",
        "    loss_fn = nn.CrossEntropyLoss()\n",
        "    optimizer = optim.SGD(model.parameters(), lr=wandb.config.learning_rate, momentum=0.9)\n",
        "    model.train(model, loss_fn, optimizer, n_epochs = wandb.config.epochs)\n",
        "wandb.agent(sweep_id, function = main, count = 50) # calls main function for count number of times\n",
        "wandb.finish()"
      ]
    },
    {
      "cell_type": "code",
      "execution_count": null,
      "metadata": {
        "id": "NW5XUUfcec35"
      },
      "outputs": [],
      "source": []
    },
    {
      "cell_type": "code",
      "execution_count": null,
      "metadata": {
        "id": "nqaVOuCIec35"
      },
      "outputs": [],
      "source": []
    },
    {
      "cell_type": "code",
      "execution_count": null,
      "metadata": {
        "id": "jE2jHZd7ec35"
      },
      "outputs": [],
      "source": []
    },
    {
      "cell_type": "code",
      "execution_count": null,
      "metadata": {
        "id": "kwBHfWGPec35",
        "outputId": "c1fd981e-63bb-4e23-d80c-410620fef601"
      },
      "outputs": [
        {
          "name": "stdout",
          "output_type": "stream",
          "text": [
            "Epoch 0: model train accuracy 10.01%\n",
            "Epoch 0: model accuracy 9.95%\n",
            "Epoch 1: model train accuracy 10.01%\n",
            "Epoch 1: model accuracy 9.95%\n",
            "Epoch 2: model train accuracy 10.01%\n",
            "Epoch 2: model accuracy 9.95%\n",
            "Epoch 3: model train accuracy 10.01%\n",
            "Epoch 3: model accuracy 9.95%\n",
            "Epoch 4: model train accuracy 10.01%\n",
            "Epoch 4: model accuracy 9.95%\n"
          ]
        }
      ],
      "source": [
        "model = CNN(trainset, valset, act_fn = 'silu',  num_neurons = 128)\n",
        "loss_fn = nn.CrossEntropyLoss()\n",
        "optimizer = optim.SGD(model.parameters(), lr=0.0001, momentum=0.9)\n",
        "model.train(model, loss_fn, optimizer, n_epochs = 5)"
      ]
    },
    {
      "cell_type": "code",
      "execution_count": null,
      "metadata": {
        "id": "SlIlNj9uec35"
      },
      "outputs": [],
      "source": []
    },
    {
      "cell_type": "code",
      "execution_count": null,
      "metadata": {
        "id": "9kqQVKsWec35"
      },
      "outputs": [],
      "source": [
        "# sweep config file\n",
        "sweep_config = {\n",
        "    'method': 'bayes',\n",
        "    'name' : 'sweep - test1',\n",
        "    'metric': {\n",
        "      'goal': 'maximize',\n",
        "      'name': 'validation_accuracy'\n",
        "    },\n",
        "    'parameters': {\n",
        "        'filters_num':{\n",
        "            'values': [[32]*5,[32,32,64,64,128],[32,64,64,128,128],[64]*5]\n",
        "        },\n",
        "        'act_fn': {\n",
        "            'values': ['relu', 'gelu', 'silu', 'mish', 'tanh'] # nn.ReLU nn.GELU nn.SiLU nn.Mish nn.Tanh\n",
        "        },\n",
        "        'data_augmentation': {          # add\n",
        "            'values': ['yes','no']\n",
        "        },\n",
        "        'batch_normalisation':{       # add\n",
        "            'values': ['yes','no']\n",
        "        },\n",
        "        'dropout': {                  # add\n",
        "            'values': [0, 0.2, 0.3]\n",
        "        },\n",
        "        'learning_rate': {\n",
        "            'values': [1e-3, 1e-4]\n",
        "        },\n",
        "        'batch_size': {               # add\n",
        "            'values': [32, 64, 128]\n",
        "        },\n",
        "        'kernel_size':{\n",
        "            'values': [[3]*5, [3, 5, 5, 7, 7], [5]*5, [7]*7, [7, 5, 5, 3, 3] ]\n",
        "        },\n",
        "        'num_neurons_dense':{\n",
        "            'values': [128, 256, 512] #, 1028]\n",
        "        },\n",
        "        'epochs':{\n",
        "            'values': [10] #, 20, 30]\n",
        "        }\n",
        "    }\n",
        "}"
      ]
    },
    {
      "cell_type": "code",
      "execution_count": null,
      "metadata": {
        "colab": {
          "base_uri": "https://localhost:8080/",
          "height": 356
        },
        "id": "IqzQfrHN0QZP",
        "outputId": "91c0e66e-9735-4549-814a-f9d3a4e02358",
        "scrolled": false
      },
      "outputs": [
        {
          "name": "stderr",
          "output_type": "stream",
          "text": [
            "\u001b[34m\u001b[1mwandb\u001b[0m: Agent Starting Run: 33nzzizy with config:\n",
            "\u001b[34m\u001b[1mwandb\u001b[0m: \tact_fn: relu\n",
            "\u001b[34m\u001b[1mwandb\u001b[0m: \tbatch_normalisation: yes\n",
            "\u001b[34m\u001b[1mwandb\u001b[0m: \tbatch_size: 32\n",
            "\u001b[34m\u001b[1mwandb\u001b[0m: \tdata_augmentation: yes\n",
            "\u001b[34m\u001b[1mwandb\u001b[0m: \tdropout: 0\n",
            "\u001b[34m\u001b[1mwandb\u001b[0m: \tepochs: 10\n",
            "\u001b[34m\u001b[1mwandb\u001b[0m: \tfilters_num: [32, 64, 64, 128, 128]\n",
            "\u001b[34m\u001b[1mwandb\u001b[0m: \tkernel_size: [5, 5, 5, 5, 5]\n",
            "\u001b[34m\u001b[1mwandb\u001b[0m: \tlearning_rate: 0.0001\n",
            "\u001b[34m\u001b[1mwandb\u001b[0m: \tnum_neurons_dense: 128\n",
            "\u001b[34m\u001b[1mwandb\u001b[0m: Currently logged in as: \u001b[33mabhinavtk\u001b[0m. Use \u001b[1m`wandb login --relogin`\u001b[0m to force relogin\n"
          ]
        },
        {
          "data": {
            "text/html": [
              "Tracking run with wandb version 0.16.5"
            ],
            "text/plain": [
              "<IPython.core.display.HTML object>"
            ]
          },
          "metadata": {},
          "output_type": "display_data"
        },
        {
          "data": {
            "text/html": [
              "Run data is saved locally in <code>C:\\Users\\abhin\\Documents\\a2\\wandb\\run-20240401_230912-33nzzizy</code>"
            ],
            "text/plain": [
              "<IPython.core.display.HTML object>"
            ]
          },
          "metadata": {},
          "output_type": "display_data"
        },
        {
          "data": {
            "text/html": [
              "Syncing run <strong><a href='https://wandb.ai/abhinavtk/a2_demo/runs/33nzzizy/workspace' target=\"_blank\">radiant-sweep-1</a></strong> to <a href='https://wandb.ai/abhinavtk/a2_demo' target=\"_blank\">Weights & Biases</a> (<a href='https://wandb.me/run' target=\"_blank\">docs</a>)<br/>Sweep page: <a href='https://wandb.ai/abhinavtk/a2_demo/sweeps/1ljf6ieu' target=\"_blank\">https://wandb.ai/abhinavtk/a2_demo/sweeps/1ljf6ieu</a>"
            ],
            "text/plain": [
              "<IPython.core.display.HTML object>"
            ]
          },
          "metadata": {},
          "output_type": "display_data"
        },
        {
          "data": {
            "text/html": [
              " View project at <a href='https://wandb.ai/abhinavtk/a2_demo' target=\"_blank\">https://wandb.ai/abhinavtk/a2_demo</a>"
            ],
            "text/plain": [
              "<IPython.core.display.HTML object>"
            ]
          },
          "metadata": {},
          "output_type": "display_data"
        },
        {
          "data": {
            "text/html": [
              " View sweep at <a href='https://wandb.ai/abhinavtk/a2_demo/sweeps/1ljf6ieu' target=\"_blank\">https://wandb.ai/abhinavtk/a2_demo/sweeps/1ljf6ieu</a>"
            ],
            "text/plain": [
              "<IPython.core.display.HTML object>"
            ]
          },
          "metadata": {},
          "output_type": "display_data"
        },
        {
          "data": {
            "text/html": [
              " View run at <a href='https://wandb.ai/abhinavtk/a2_demo/runs/33nzzizy/workspace' target=\"_blank\">https://wandb.ai/abhinavtk/a2_demo/runs/33nzzizy/workspace</a>"
            ],
            "text/plain": [
              "<IPython.core.display.HTML object>"
            ]
          },
          "metadata": {},
          "output_type": "display_data"
        },
        {
          "name": "stdout",
          "output_type": "stream",
          "text": [
            "Epoch 0: model accuracy 9.91%\n",
            "Epoch 1: model accuracy 9.91%\n",
            "Epoch 2: model accuracy 9.91%\n",
            "Epoch 3: model accuracy 9.91%\n"
          ]
        }
      ],
      "source": [
        "def main():\n",
        "  with wandb.init() as run:\n",
        "    run_name = \"-#fil_\"+str(wandb.config.filters_num)+\"-ac_fn_\"+wandb.config.act_fn+\"-d_aug_\"\\\n",
        "                  +wandb.config.data_augmentation + \"-norm_\"+wandb.config.batch_normalisation + \"-bs_\"\\\n",
        "                  +str(wandb.config.batch_size) + \"-lr_\"+str(wandb.config.learning_rate)+\\\n",
        "                  \"-ep_\"+str(wandb.config.epochs)\n",
        "\n",
        "    wandb.run.name = run_name\n",
        "\n",
        "    model = CNN(act_fn = 'silu',  num_neurons = 128)\n",
        "    loss_fn = nn.CrossEntropyLoss()\n",
        "    optimizer = optim.SGD(model.parameters(), lr=0.0001, momentum=0.9)\n",
        "    model.train(model, loss_fn, optimizer, dataloader_train, dataloader_val, n_epochs = 5)\n",
        "wandb.agent(sweep_id, function = main, count = 5) # calls main function for count number of times\n",
        "wandb.finish()"
      ]
    },
    {
      "cell_type": "code",
      "execution_count": null,
      "metadata": {
        "id": "82Ljnhgi6Yst"
      },
      "outputs": [],
      "source": []
    },
    {
      "cell_type": "code",
      "execution_count": null,
      "metadata": {
        "id": "dwWz4p7eec36"
      },
      "outputs": [],
      "source": []
    }
  ],
  "metadata": {
    "accelerator": "GPU",
    "colab": {
      "gpuType": "T4",
      "provenance": [],
      "include_colab_link": true
    },
    "kernelspec": {
      "display_name": "Python 3 (ipykernel)",
      "language": "python",
      "name": "python3"
    },
    "language_info": {
      "codemirror_mode": {
        "name": "ipython",
        "version": 3
      },
      "file_extension": ".py",
      "mimetype": "text/x-python",
      "name": "python",
      "nbconvert_exporter": "python",
      "pygments_lexer": "ipython3",
      "version": "3.9.12"
    }
  },
  "nbformat": 4,
  "nbformat_minor": 0
}