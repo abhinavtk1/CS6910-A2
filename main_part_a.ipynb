{
  "nbformat": 4,
  "nbformat_minor": 0,
  "metadata": {
    "colab": {
      "provenance": [],
      "authorship_tag": "ABX9TyN4ynOVje6h6iwy9Ifve0kU",
      "include_colab_link": true
    },
    "kernelspec": {
      "name": "python3",
      "display_name": "Python 3"
    },
    "language_info": {
      "name": "python"
    }
  },
  "cells": [
    {
      "cell_type": "markdown",
      "metadata": {
        "id": "view-in-github",
        "colab_type": "text"
      },
      "source": [
        "<a href=\"https://colab.research.google.com/github/abhinavtk1/CS6910-A2/blob/main/main_part_a.ipynb\" target=\"_parent\"><img src=\"https://colab.research.google.com/assets/colab-badge.svg\" alt=\"Open In Colab\"/></a>"
      ]
    },
    {
      "cell_type": "markdown",
      "source": [
        "# MA23M002 - ABHINAV T K\n",
        "# CS6910 - Assignment 2"
      ],
      "metadata": {
        "id": "qoC8KzlvtI18"
      }
    },
    {
      "cell_type": "markdown",
      "source": [
        "**Github repo:** https://github.com/abhinavtk1/CS6910-A2 <br>\n",
        "**Wandb report:**"
      ],
      "metadata": {
        "id": "dK4e6ITitObu"
      }
    },
    {
      "cell_type": "markdown",
      "source": [
        "# Part A: Training from scratch\n"
      ],
      "metadata": {
        "id": "b7mYPhAatqTi"
      }
    },
    {
      "cell_type": "markdown",
      "source": [
        "Question 1"
      ],
      "metadata": {
        "id": "yi6HwA3auBer"
      }
    },
    {
      "cell_type": "code",
      "execution_count": null,
      "metadata": {
        "id": "eYNjK5pdq_gH"
      },
      "outputs": [],
      "source": []
    }
  ]
}