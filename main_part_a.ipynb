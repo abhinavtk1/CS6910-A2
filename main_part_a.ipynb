{
  "nbformat": 4,
  "nbformat_minor": 0,
  "metadata": {
    "colab": {
      "provenance": [],
      "authorship_tag": "ABX9TyOErfUFF7NP1Uu1vy3C1ny2",
      "include_colab_link": true
    },
    "kernelspec": {
      "name": "python3",
      "display_name": "Python 3"
    },
    "language_info": {
      "name": "python"
    }
  },
  "cells": [
    {
      "cell_type": "markdown",
      "metadata": {
        "id": "view-in-github",
        "colab_type": "text"
      },
      "source": [
        "<a href=\"https://colab.research.google.com/github/abhinavtk1/CS6910-A2/blob/main/main_part_a.ipynb\" target=\"_parent\"><img src=\"https://colab.research.google.com/assets/colab-badge.svg\" alt=\"Open In Colab\"/></a>"
      ]
    },
    {
      "cell_type": "markdown",
      "source": [
        "# MA23M002 - ABHINAV T K\n",
        "# CS6910 - Assignment 2"
      ],
      "metadata": {
        "id": "qoC8KzlvtI18"
      }
    },
    {
      "cell_type": "markdown",
      "source": [
        "**Github repo:** https://github.com/abhinavtk1/CS6910-A2 <br>\n",
        "**Wandb report:**"
      ],
      "metadata": {
        "id": "dK4e6ITitObu"
      }
    },
    {
      "cell_type": "code",
      "source": [
        "# Connecting to google drive\n",
        "from google.colab import drive\n",
        "drive.mount('/content/drive')"
      ],
      "metadata": {
        "colab": {
          "base_uri": "https://localhost:8080/"
        },
        "id": "PEqF35N0xo_0",
        "outputId": "ce4fe9f3-7f74-4a8a-b04e-03b49745b111"
      },
      "execution_count": 1,
      "outputs": [
        {
          "output_type": "stream",
          "name": "stdout",
          "text": [
            "Mounted at /content/drive\n"
          ]
        }
      ]
    },
    {
      "cell_type": "code",
      "source": [
        "# Path: /content/drive/MyDrive/CS6910-A2\n",
        "path = \"/content/drive/MyDrive/CS6910-A2\"\n"
      ],
      "metadata": {
        "id": "cdUKuLxCx_6R"
      },
      "execution_count": 2,
      "outputs": []
    },
    {
      "cell_type": "code",
      "execution_count": null,
      "metadata": {
        "id": "eYNjK5pdq_gH"
      },
      "outputs": [],
      "source": [
        "# Install pytorch lightning\n",
        "!pip install pytorch-lightning"
      ]
    },
    {
      "cell_type": "code",
      "source": [
        "! pip install --quiet \"pytorch-lightning>=1.4, <2.1.0\" \"urllib3\" \"ipython[notebook]>=8.0.0, <8.17.0\" \"torchmetrics>=0.7, <1.3\" \"torch>=1.8.1, <2.1.0\" \"matplotlib>=3.0.0, <3.9.0\" \"matplotlib\" \"lightning>=2.0.0\" \"setuptools>=68.0.0, <68.3.0\""
      ],
      "metadata": {
        "id": "OmgRsUWg7iWo"
      },
      "execution_count": null,
      "outputs": []
    },
    {
      "cell_type": "markdown",
      "source": [
        "# Part A: Training from scratch\n"
      ],
      "metadata": {
        "id": "b7mYPhAatqTi"
      }
    },
    {
      "cell_type": "markdown",
      "source": [
        "Question 1"
      ],
      "metadata": {
        "id": "yi6HwA3auBer"
      }
    },
    {
      "cell_type": "code",
      "source": [
        "IMG_SIZE = (128,128)"
      ],
      "metadata": {
        "id": "vnKEtsvDmFGK"
      },
      "execution_count": null,
      "outputs": []
    },
    {
      "cell_type": "code",
      "source": [
        "import torch\n",
        "import torch.nn as nn\n",
        "import torch.optim as optim\n",
        "import torchvision"
      ],
      "metadata": {
        "id": "1FYFPyLDkRcd"
      },
      "execution_count": 1,
      "outputs": []
    },
    {
      "cell_type": "code",
      "source": [
        "# Reference: https://machinelearningmastery.com/building-a-convolutional-neural-network-in-pytorch/\n",
        "\n",
        "class CNN(nn.Module):\n",
        "    def __init__(self, num_filters = [32,32,64,64,128], kernel_size = [3]*5, act_fn = 'relu', num_neurons = 512):\n",
        "        super().__init__()\n",
        "\n",
        "        #Conv layer 1\n",
        "        self.conv1 = nn.Conv2d(3, num_filters[0],\n",
        "                               kernel_size=(kernel_size[0],kernel_size[0]),\n",
        "                               stride=1, padding=1)\n",
        "        if act_fn=='relu':\n",
        "          self.act1 = nn.ReLU()\n",
        "        elif act_fn=='tanh':\n",
        "          self.act1 = nn.Tanh()\n",
        "        elif act_fn=='sigmoid':\n",
        "          self.act1 = nn.Sigmoid()\n",
        "        self.pool1 = nn.MaxPool2d(kernel_size=(2, 2))\n",
        "\n",
        "        #Conv layer 2\n",
        "        self.conv2 = nn.Conv2d(num_filters[0], num_filters[1],\n",
        "                               kernel_size=(kernel_size[1],kernel_size[1]),\n",
        "                               stride=1, padding=1)\n",
        "        if act_fn=='relu':\n",
        "          self.act2 = nn.ReLU()\n",
        "        elif act_fn=='tanh':\n",
        "          self.act2 = nn.Tanh()\n",
        "        elif act_fn=='sigmoid':\n",
        "          self.act2 = nn.Sigmoid()\n",
        "        self.pool2 = nn.MaxPool2d(kernel_size=(2, 2))\n",
        "\n",
        "        #Conv layer 3\n",
        "        self.conv3 = nn.Conv2d(num_filters[1], num_filters[2],\n",
        "                               kernel_size=(kernel_size[2],kernel_size[2]),\n",
        "                               stride=1, padding=1)\n",
        "        if act_fn=='relu':\n",
        "          self.act3 = nn.ReLU()\n",
        "        elif act_fn=='tanh':\n",
        "          self.act3 = nn.Tanh()\n",
        "        elif act_fn=='sigmoid':\n",
        "          self.act3 = nn.Sigmoid()\n",
        "        self.pool3 = nn.MaxPool2d(kernel_size=(2, 2))\n",
        "\n",
        "        #Conv layer 4\n",
        "        self.conv4 = nn.Conv2d(num_filters[2], num_filters[3],\n",
        "                               kernel_size=(kernel_size[3],kernel_size[3]),\n",
        "                               stride=1, padding=1)\n",
        "        if act_fn=='relu':\n",
        "          self.act4 = nn.ReLU()\n",
        "        elif act_fn=='tanh':\n",
        "          self.act4 = nn.Tanh()\n",
        "        elif act_fn=='sigmoid':\n",
        "          self.act4 = nn.Sigmoid()\n",
        "        self.pool4 = nn.MaxPool2d(kernel_size=(2, 2))\n",
        "\n",
        "        #Conv layer 5\n",
        "        self.conv5 = nn.Conv2d(num_filters[3], num_filters[4],\n",
        "                               kernel_size=(kernel_size[4],kernel_size[4]),\n",
        "                               stride=1, padding=1)\n",
        "        if act_fn=='relu':\n",
        "          self.act5 = nn.ReLU()\n",
        "        elif act_fn=='tanh':\n",
        "          self.act5 = nn.Tanh()\n",
        "        elif act_fn=='sigmoid':\n",
        "          self.act5 = nn.Sigmoid()\n",
        "        self.pool5 = nn.MaxPool2d(kernel_size=(2, 2))\n",
        "\n",
        "        # Flatten\n",
        "        self.flatten = nn.Flatten()\n",
        "\n",
        "        # dense layer\n",
        "        self.fc6 = nn.Linear(2048, num_neurons)\n",
        "        if act_fn=='relu':\n",
        "          self.act6 = nn.ReLU()\n",
        "        elif act_fn=='tanh':\n",
        "          self.act6 = nn.Tanh()\n",
        "        elif act_fn=='sigmoid':\n",
        "          self.act6 = nn.Sigmoid()\n",
        "\n",
        "        # output layer\n",
        "        self.fc7 = nn.Linear(num_neurons, 10)\n",
        "\n",
        "\n",
        "    def forward(self, x):\n",
        "        # input 3x128x128, output 32x128x128\n",
        "        x = self.act1(self.conv1(x))\n",
        "        # input 32x128x128, output 32x64x64\n",
        "        x = self.pool1(x)\n",
        "\n",
        "        # input 32x64x64, output 32x64x64\n",
        "        x = self.act2(self.conv2(x))\n",
        "        # input 32x64x64, output 32x32x32\n",
        "        x = self.pool2(x)\n",
        "\n",
        "        # input 32x32x32, output 64x32x32\n",
        "        x = self.act3(self.conv3(x))\n",
        "        # input 64x32x32, output 64x16x16\n",
        "        x = self.pool3(x)\n",
        "\n",
        "        # input 64x16x16, output 64x16x16\n",
        "        x = self.act4(self.conv4(x))\n",
        "        # input 64x16x16, output 64x8x8\n",
        "        x = self.pool4(x)\n",
        "\n",
        "        # input 64x8x8, output 128x8x8\n",
        "        x = self.act5(self.conv5(x))\n",
        "        # input 128x8x8, output 128x4x4\n",
        "        x = self.pool5(x)\n",
        "\n",
        "        # input 128,4,4 output 2048\n",
        "        x = self.flatten(x)\n",
        "\n",
        "        # input 2048, output 512\n",
        "        x = self.act6(self.fc6(x))\n",
        "\n",
        "        # input 512, output 10\n",
        "        x = self.fc7(x)\n",
        "\n",
        "        return x"
      ],
      "metadata": {
        "id": "CMoS4vGBkS6D"
      },
      "execution_count": 2,
      "outputs": []
    },
    {
      "cell_type": "code",
      "source": [],
      "metadata": {
        "id": "6kQU2vB09flI"
      },
      "execution_count": null,
      "outputs": []
    }
  ]
}