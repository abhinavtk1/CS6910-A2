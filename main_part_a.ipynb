{
  "nbformat": 4,
  "nbformat_minor": 0,
  "metadata": {
    "colab": {
      "provenance": [],
      "gpuType": "T4",
      "authorship_tag": "ABX9TyMAWiwKxzJG+wWzzYLvbz+D",
      "include_colab_link": true
    },
    "kernelspec": {
      "name": "python3",
      "display_name": "Python 3"
    },
    "language_info": {
      "name": "python"
    },
    "accelerator": "GPU"
  },
  "cells": [
    {
      "cell_type": "markdown",
      "metadata": {
        "id": "view-in-github",
        "colab_type": "text"
      },
      "source": [
        "<a href=\"https://colab.research.google.com/github/abhinavtk1/CS6910-A2/blob/main/main_part_a.ipynb\" target=\"_parent\"><img src=\"https://colab.research.google.com/assets/colab-badge.svg\" alt=\"Open In Colab\"/></a>"
      ]
    },
    {
      "cell_type": "markdown",
      "source": [
        "# MA23M002 - ABHINAV T K\n",
        "# CS6910 - Assignment 2"
      ],
      "metadata": {
        "id": "qoC8KzlvtI18"
      }
    },
    {
      "cell_type": "markdown",
      "source": [
        "**Github repo:** https://github.com/abhinavtk1/CS6910-A2 <br>\n",
        "**Wandb report:**"
      ],
      "metadata": {
        "id": "dK4e6ITitObu"
      }
    },
    {
      "cell_type": "code",
      "source": [
        "%%capture\n",
        "!curl -SL https://storage.googleapis.com/wandb_datasets/nature_12K.zip > nature_12K.zip\n",
        "!unzip nature_12K.zip\n",
        "\n",
        "train = 'inaturalist_12K/train/'\n",
        "test = 'inaturalist_12K/val/'\n"
      ],
      "metadata": {
        "id": "VANUAXj9rFkL"
      },
      "execution_count": null,
      "outputs": []
    },
    {
      "cell_type": "code",
      "source": [
        "classes = ['Amphibia','Animalia','Arachnida','Aves','Fungi',\n",
        "           'Insecta','Mammalia','Mollusca','Plantae','Reptilia']\n"
      ],
      "metadata": {
        "id": "kYFUbsIzv-Pt"
      },
      "execution_count": 3,
      "outputs": []
    },
    {
      "cell_type": "code",
      "source": [
        "# visualization\n",
        "fig = plt.figure(figsize=(18,9))\n",
        "r, c = 2, 5\n",
        "l = 1\n",
        "\n",
        "for item in classes:\n",
        "  loc = os.path.join(test, item)\n",
        "  for img in os.listdir(loc):\n",
        "    img_loc=(os.path.join(loc,img))\n",
        "    img = mpimg.imread(img_loc)\n",
        "    img = cv2.resize(img,(128,128))\n",
        "    fig.add_subplot(r, c, l)\n",
        "    plt.imshow(img)\n",
        "    plt.title(item)\n",
        "    l+=1\n",
        "    break"
      ],
      "metadata": {
        "id": "PWKNwB74rfmS"
      },
      "execution_count": null,
      "outputs": []
    },
    {
      "cell_type": "code",
      "source": [
        "!pip install wandb"
      ],
      "metadata": {
        "colab": {
          "base_uri": "https://localhost:8080/"
        },
        "id": "CcRYE0BS-QvM",
        "outputId": "fb293b25-397d-4679-9fe0-738c313364b5"
      },
      "execution_count": 1,
      "outputs": [
        {
          "output_type": "stream",
          "name": "stdout",
          "text": [
            "Collecting wandb\n",
            "  Downloading wandb-0.16.5-py3-none-any.whl (2.2 MB)\n",
            "\u001b[2K     \u001b[90m━━━━━━━━━━━━━━━━━━━━━━━━━━━━━━━━━━━━━━━━\u001b[0m \u001b[32m2.2/2.2 MB\u001b[0m \u001b[31m14.4 MB/s\u001b[0m eta \u001b[36m0:00:00\u001b[0m\n",
            "\u001b[?25hRequirement already satisfied: Click!=8.0.0,>=7.1 in /usr/local/lib/python3.10/dist-packages (from wandb) (8.1.7)\n",
            "Collecting GitPython!=3.1.29,>=1.0.0 (from wandb)\n",
            "  Downloading GitPython-3.1.43-py3-none-any.whl (207 kB)\n",
            "\u001b[2K     \u001b[90m━━━━━━━━━━━━━━━━━━━━━━━━━━━━━━━━━━━━━━━━\u001b[0m \u001b[32m207.3/207.3 kB\u001b[0m \u001b[31m17.2 MB/s\u001b[0m eta \u001b[36m0:00:00\u001b[0m\n",
            "\u001b[?25hRequirement already satisfied: requests<3,>=2.0.0 in /usr/local/lib/python3.10/dist-packages (from wandb) (2.31.0)\n",
            "Requirement already satisfied: psutil>=5.0.0 in /usr/local/lib/python3.10/dist-packages (from wandb) (5.9.5)\n",
            "Collecting sentry-sdk>=1.0.0 (from wandb)\n",
            "  Downloading sentry_sdk-1.44.0-py2.py3-none-any.whl (264 kB)\n",
            "\u001b[2K     \u001b[90m━━━━━━━━━━━━━━━━━━━━━━━━━━━━━━━━━━━━━━━━\u001b[0m \u001b[32m264.9/264.9 kB\u001b[0m \u001b[31m13.2 MB/s\u001b[0m eta \u001b[36m0:00:00\u001b[0m\n",
            "\u001b[?25hCollecting docker-pycreds>=0.4.0 (from wandb)\n",
            "  Downloading docker_pycreds-0.4.0-py2.py3-none-any.whl (9.0 kB)\n",
            "Requirement already satisfied: PyYAML in /usr/local/lib/python3.10/dist-packages (from wandb) (6.0.1)\n",
            "Collecting setproctitle (from wandb)\n",
            "  Downloading setproctitle-1.3.3-cp310-cp310-manylinux_2_5_x86_64.manylinux1_x86_64.manylinux_2_17_x86_64.manylinux2014_x86_64.whl (30 kB)\n",
            "Requirement already satisfied: setuptools in /usr/local/lib/python3.10/dist-packages (from wandb) (67.7.2)\n",
            "Requirement already satisfied: appdirs>=1.4.3 in /usr/local/lib/python3.10/dist-packages (from wandb) (1.4.4)\n",
            "Requirement already satisfied: protobuf!=4.21.0,<5,>=3.19.0 in /usr/local/lib/python3.10/dist-packages (from wandb) (3.20.3)\n",
            "Requirement already satisfied: six>=1.4.0 in /usr/local/lib/python3.10/dist-packages (from docker-pycreds>=0.4.0->wandb) (1.16.0)\n",
            "Collecting gitdb<5,>=4.0.1 (from GitPython!=3.1.29,>=1.0.0->wandb)\n",
            "  Downloading gitdb-4.0.11-py3-none-any.whl (62 kB)\n",
            "\u001b[2K     \u001b[90m━━━━━━━━━━━━━━━━━━━━━━━━━━━━━━━━━━━━━━━━\u001b[0m \u001b[32m62.7/62.7 kB\u001b[0m \u001b[31m6.1 MB/s\u001b[0m eta \u001b[36m0:00:00\u001b[0m\n",
            "\u001b[?25hRequirement already satisfied: charset-normalizer<4,>=2 in /usr/local/lib/python3.10/dist-packages (from requests<3,>=2.0.0->wandb) (3.3.2)\n",
            "Requirement already satisfied: idna<4,>=2.5 in /usr/local/lib/python3.10/dist-packages (from requests<3,>=2.0.0->wandb) (3.6)\n",
            "Requirement already satisfied: urllib3<3,>=1.21.1 in /usr/local/lib/python3.10/dist-packages (from requests<3,>=2.0.0->wandb) (2.0.7)\n",
            "Requirement already satisfied: certifi>=2017.4.17 in /usr/local/lib/python3.10/dist-packages (from requests<3,>=2.0.0->wandb) (2024.2.2)\n",
            "Collecting smmap<6,>=3.0.1 (from gitdb<5,>=4.0.1->GitPython!=3.1.29,>=1.0.0->wandb)\n",
            "  Downloading smmap-5.0.1-py3-none-any.whl (24 kB)\n",
            "Installing collected packages: smmap, setproctitle, sentry-sdk, docker-pycreds, gitdb, GitPython, wandb\n",
            "Successfully installed GitPython-3.1.43 docker-pycreds-0.4.0 gitdb-4.0.11 sentry-sdk-1.44.0 setproctitle-1.3.3 smmap-5.0.1 wandb-0.16.5\n"
          ]
        }
      ]
    },
    {
      "cell_type": "code",
      "source": [
        "import numpy as np\n",
        "import pandas as pd\n",
        "import os\n",
        "import keras\n",
        "import tensorflow as tf\n",
        "#from tensorflow.keras import layers,models\n",
        "#from tensorflow.keras.layers import Conv2D, MaxPooling2D, Dropout, Dense, Flatten, Activation , BatchNormalization\n",
        "#from tensorflow.keras.preprocessing.image import ImageDataGenerator\n",
        "#from wandb.keras import WandbCallback\n",
        "import matplotlib.pyplot as plt\n",
        "import cv2\n",
        "import matplotlib.image as mpimg\n",
        "import wandb\n",
        "import numpy as np\n",
        "from types import SimpleNamespace\n",
        "import random"
      ],
      "metadata": {
        "id": "PQGOS9b7rhiW"
      },
      "execution_count": 10,
      "outputs": []
    },
    {
      "cell_type": "markdown",
      "source": [
        "# Part A: Training from scratch\n"
      ],
      "metadata": {
        "id": "b7mYPhAatqTi"
      }
    },
    {
      "cell_type": "markdown",
      "source": [
        "Question 1"
      ],
      "metadata": {
        "id": "yi6HwA3auBer"
      }
    },
    {
      "cell_type": "markdown",
      "source": [
        "Define model"
      ],
      "metadata": {
        "id": "Eg__UyyTwlQd"
      }
    },
    {
      "cell_type": "code",
      "source": [
        "import torch\n",
        "import torch.nn as nn\n",
        "import torch.optim as optim\n",
        "import torchvision"
      ],
      "metadata": {
        "id": "1FYFPyLDkRcd"
      },
      "execution_count": 3,
      "outputs": []
    },
    {
      "cell_type": "code",
      "source": [
        "# Reference: https://machinelearningmastery.com/building-a-convolutional-neural-network-in-pytorch/\n",
        "\n",
        "class CNN(nn.Module):\n",
        "    def __init__(self, num_filters = [32,32,64,64,128], kernel_size = [3]*5,\n",
        "                 act_fn = 'relu', num_neurons = 512):\n",
        "        super().__init__()\n",
        "\n",
        "        #Conv layer 1\n",
        "        self.conv1 = nn.Conv2d(3, num_filters[0],\n",
        "                               kernel_size=(kernel_size[0],kernel_size[0]),\n",
        "                               stride=1, padding='same')\n",
        "        #x = (128 - kernel_size[0] + 2)/1 + 1\n",
        "        x = 128\n",
        "        if act_fn=='relu':\n",
        "          self.act1 = nn.ReLU()\n",
        "        elif act_fn=='tanh':\n",
        "          self.act1 = nn.Tanh()\n",
        "        elif act_fn=='sigmoid':\n",
        "          self.act1 = nn.Sigmoid()\n",
        "        self.pool1 = nn.MaxPool2d(2,2)\n",
        "        x = x//2\n",
        "\n",
        "        #Conv layer 2\n",
        "        self.conv2 = nn.Conv2d(num_filters[0], num_filters[1],\n",
        "                               kernel_size=(kernel_size[1],kernel_size[1]),\n",
        "                               stride=1, padding='same')\n",
        "        #x = (x - kernel_size[1] + 2)/1 + 1\n",
        "\n",
        "        if act_fn=='relu':\n",
        "          self.act2 = nn.ReLU()\n",
        "        elif act_fn=='tanh':\n",
        "          self.act2 = nn.Tanh()\n",
        "        elif act_fn=='sigmoid':\n",
        "          self.act2 = nn.Sigmoid()\n",
        "        self.pool2 = nn.MaxPool2d(2,2)\n",
        "        x = x//2\n",
        "\n",
        "        #Conv layer 3\n",
        "        self.conv3 = nn.Conv2d(num_filters[1], num_filters[2],\n",
        "                               kernel_size=(kernel_size[2],kernel_size[2]),\n",
        "                               stride=1, padding='same')\n",
        "\n",
        "        if act_fn=='relu':\n",
        "          self.act3 = nn.ReLU()\n",
        "        elif act_fn=='tanh':\n",
        "          self.act3 = nn.Tanh()\n",
        "        elif act_fn=='sigmoid':\n",
        "          self.act3 = nn.Sigmoid()\n",
        "        self.pool3 = nn.MaxPool2d(2,2)\n",
        "        x = x//2\n",
        "\n",
        "        #Conv layer 4\n",
        "        self.conv4 = nn.Conv2d(num_filters[2], num_filters[3],\n",
        "                               kernel_size=(kernel_size[3],kernel_size[3]),\n",
        "                               stride=1, padding='same')\n",
        "\n",
        "        if act_fn=='relu':\n",
        "          self.act4 = nn.ReLU()\n",
        "        elif act_fn=='tanh':\n",
        "          self.act4 = nn.Tanh()\n",
        "        elif act_fn=='sigmoid':\n",
        "          self.act4 = nn.Sigmoid()\n",
        "        self.pool4 = nn.MaxPool2d(2,2)\n",
        "        x = x//2\n",
        "\n",
        "        #Conv layer 5\n",
        "        self.conv5 = nn.Conv2d(num_filters[3], num_filters[4],\n",
        "                               kernel_size=(kernel_size[4],kernel_size[4]),\n",
        "                               stride=1, padding='same')\n",
        "\n",
        "        if act_fn=='relu':\n",
        "          self.act5 = nn.ReLU()\n",
        "        elif act_fn=='tanh':\n",
        "          self.act5 = nn.Tanh()\n",
        "        elif act_fn=='sigmoid':\n",
        "          self.act5 = nn.Sigmoid()\n",
        "        self.pool5 = nn.MaxPool2d(2,2)\n",
        "        x = x//2\n",
        "        x = x*x*num_filters[4]\n",
        "        print(x)\n",
        "\n",
        "        # Flatten\n",
        "        self.flatten = nn.Flatten()\n",
        "\n",
        "        # dense layer\n",
        "        self.fc6 = nn.Linear(x, num_neurons)\n",
        "        if act_fn=='relu':\n",
        "          self.act6 = nn.ReLU()\n",
        "        elif act_fn=='tanh':\n",
        "          self.act6 = nn.Tanh()\n",
        "        elif act_fn=='sigmoid':\n",
        "          self.act6 = nn.Sigmoid()\n",
        "\n",
        "        # output layer\n",
        "        self.fc7 = nn.Linear(num_neurons, 10)\n",
        "\n",
        "\n",
        "    def forward(self, x):\n",
        "        # input 3x128x128, output 32x128x128\n",
        "        x = self.act1(self.conv1(x))\n",
        "        # input 32x128x128, output 32x64x64\n",
        "        x = self.pool1(x)\n",
        "\n",
        "        # input 32x64x64, output 32x64x64\n",
        "        x = self.act2(self.conv2(x))\n",
        "        # input 32x64x64, output 32x32x32\n",
        "        x = self.pool2(x)\n",
        "\n",
        "        # input 32x32x32, output 64x32x32\n",
        "        x = self.act3(self.conv3(x))\n",
        "        # input 64x32x32, output 64x16x16\n",
        "        x = self.pool3(x)\n",
        "\n",
        "        # input 64x16x16, output 64x16x16\n",
        "        x = self.act4(self.conv4(x))\n",
        "        # input 64x16x16, output 64x8x8\n",
        "        x = self.pool4(x)\n",
        "\n",
        "        # input 64x8x8, output 128x8x8\n",
        "        x = self.act5(self.conv5(x))\n",
        "        # input 128x8x8, output 128x4x4\n",
        "        x = self.pool5(x)\n",
        "\n",
        "        # input 128,4,4 output 2048\n",
        "        x = self.flatten(x)\n",
        "\n",
        "        # input 2048, output 512\n",
        "        x = self.act6(self.fc6(x))\n",
        "\n",
        "        # input 512, output 10\n",
        "        x = self.fc7(x)\n",
        "        return x\n",
        "\n",
        "    def train(self, model, loss_fn, optimizer, dataloader_train, dataloader_val, n_epochs = 10):\n",
        "        for epoch in range(n_epochs):\n",
        "            for inputs, labels in dataloader_train:\n",
        "                # forward, backward, and then weight update\n",
        "                inputs = inputs.to(device)\n",
        "                labels = labels.to(device)\n",
        "                # Forward pass\n",
        "                y_pred = model(inputs)\n",
        "                loss = loss_fn(y_pred, labels)\n",
        "\n",
        "                optimizer.zero_grad()\n",
        "                loss.backward()\n",
        "                optimizer.step()\n",
        "\n",
        "            val_accuracy = 0\n",
        "            count = 0\n",
        "            for inputs, labels in dataloader_val:\n",
        "                inputs = inputs.to(device)\n",
        "                labels = labels.to(device)\n",
        "                y_pred = model(inputs)\n",
        "                val_accuracy += (torch.argmax(y_pred, 1) == labels).float().sum()\n",
        "                count += len(labels)\n",
        "            val_accuracy /= count\n",
        "            print(\"Epoch %d: model accuracy %.2f%%\" % (epoch, val_accuracy*100))\n",
        "            wandb.log({ 'epoch': epoch, 'validation_accuracy': val_accuracy * 100})"
      ],
      "metadata": {
        "id": "CMoS4vGBkS6D"
      },
      "execution_count": 14,
      "outputs": []
    },
    {
      "cell_type": "code",
      "source": [
        "# Loading data\n",
        "import torch\n",
        "from torchvision import transforms, datasets\n",
        "from torch.utils.data import random_split\n",
        "\n",
        "# Connect to google drive\n",
        "from google.colab import drive\n",
        "drive.mount('/content/drive')\n",
        "\n",
        "train_dir = '/content/drive/MyDrive/CS6910-A2/train'\n",
        "test_dir = '/content/drive/MyDrive/CS6910-A2/val'\n",
        "IMG_SIZE = (128,128)\n",
        "batch_size = 32\n",
        "\n",
        "# Transformations to apply to the images\n",
        "transform = transforms.Compose([\n",
        "    transforms.Resize(IMG_SIZE),  # Resize the images\n",
        "    transforms.ToTensor(),\n",
        "    transforms.Normalize((0.5, 0.5, 0.5), (0.5, 0.5, 0.5)) ])           # Convert images to PyTorch tensors\n",
        "    #transforms.Normalize(mean=[0.485, 0.456, 0.406], std=[0.229, 0.224, 0.225])  # Normalize the images\n",
        "\n",
        "\n",
        "# Use ImageFolder to create a dataset\n",
        "trainset = datasets.ImageFolder(root=train_dir, transform=transform)\n",
        "val_size = int(0.1 * len(trainset))\n",
        "train_size = len(trainset) - val_size\n",
        "trainset, valset = random_split(trainset, [train_size, val_size])\n",
        "\n",
        "testset = datasets.ImageFolder(root=test_dir, transform=transform)\n",
        "\n",
        "# DataLoader for the dataset\n",
        "dataloader_train = torch.utils.data.DataLoader(trainset, batch_size = batch_size, shuffle=True)\n",
        "dataloader_val = torch.utils.data.DataLoader(valset, batch_size = batch_size, shuffle=True)\n",
        "dataloader_test = torch.utils.data.DataLoader(testset, batch_size = batch_size, shuffle=True)\n"
      ],
      "metadata": {
        "colab": {
          "base_uri": "https://localhost:8080/"
        },
        "id": "SreiFXCCCkd6",
        "outputId": "dbd39c1c-d2a8-4ebf-fb12-f81e7604108c"
      },
      "execution_count": 5,
      "outputs": [
        {
          "output_type": "stream",
          "name": "stdout",
          "text": [
            "Mounted at /content/drive\n"
          ]
        }
      ]
    },
    {
      "cell_type": "code",
      "source": [
        "# Device configuration\n",
        "device = torch.device('cuda' if torch.cuda.is_available() else 'cpu')"
      ],
      "metadata": {
        "id": "AU1tnX6PlOX5"
      },
      "execution_count": 6,
      "outputs": []
    },
    {
      "cell_type": "code",
      "source": [
        "!nvidia-smi"
      ],
      "metadata": {
        "colab": {
          "base_uri": "https://localhost:8080/"
        },
        "id": "7VN9v8HNwRJN",
        "outputId": "9074348b-3d80-48d3-a595-908083d42cf9"
      },
      "execution_count": 7,
      "outputs": [
        {
          "output_type": "stream",
          "name": "stdout",
          "text": [
            "Mon Apr  1 06:12:37 2024       \n",
            "+---------------------------------------------------------------------------------------+\n",
            "| NVIDIA-SMI 535.104.05             Driver Version: 535.104.05   CUDA Version: 12.2     |\n",
            "|-----------------------------------------+----------------------+----------------------+\n",
            "| GPU  Name                 Persistence-M | Bus-Id        Disp.A | Volatile Uncorr. ECC |\n",
            "| Fan  Temp   Perf          Pwr:Usage/Cap |         Memory-Usage | GPU-Util  Compute M. |\n",
            "|                                         |                      |               MIG M. |\n",
            "|=========================================+======================+======================|\n",
            "|   0  Tesla T4                       Off | 00000000:00:04.0 Off |                    0 |\n",
            "| N/A   36C    P8               9W /  70W |      3MiB / 15360MiB |      0%      Default |\n",
            "|                                         |                      |                  N/A |\n",
            "+-----------------------------------------+----------------------+----------------------+\n",
            "                                                                                         \n",
            "+---------------------------------------------------------------------------------------+\n",
            "| Processes:                                                                            |\n",
            "|  GPU   GI   CI        PID   Type   Process name                            GPU Memory |\n",
            "|        ID   ID                                                             Usage      |\n",
            "|=======================================================================================|\n",
            "|  No running processes found                                                           |\n",
            "+---------------------------------------------------------------------------------------+\n"
          ]
        }
      ]
    },
    {
      "cell_type": "markdown",
      "source": [
        "Q2. Training the inaturalist dataset"
      ],
      "metadata": {
        "id": "kH_PhVLNt817"
      }
    },
    {
      "cell_type": "code",
      "source": [
        "# sweep config file\n",
        "sweep_config = {\n",
        "    'method': 'random',\n",
        "    'name' : 'sweep - demo4',\n",
        "    'metric': {\n",
        "      'goal': 'maximize',\n",
        "      'name': 'validation_accuracy'\n",
        "    },\n",
        "    'parameters': {\n",
        "        'filters_num':{\n",
        "            'values': [[32]*5,[32,32,64,64,128],[32,64,64,128,128],[128]*5]\n",
        "        },\n",
        "        'act_fn': {\n",
        "            'values': ['relu']#, 'gelu', 'silu', 'mish', 'tanh'] # nn.ReLU nn.GELU nn.SiLU nn.Mish nn.Tanh\n",
        "        },\n",
        "        'data_augmentation': {          # add\n",
        "            'values': ['yes','no']\n",
        "        },\n",
        "        'batch_normalisation':{       # add\n",
        "            'values': ['yes','no']\n",
        "        },\n",
        "        'dropout': {                  # add\n",
        "            'values': [0, 0.2, 0.3]\n",
        "        },\n",
        "        'learning_rate': {\n",
        "            'values': [1e-3, 1e-4]\n",
        "        },\n",
        "        'batch_size': {               # add\n",
        "            'values': [32, 64, 128]\n",
        "        },\n",
        "        'kernel_size':{\n",
        "            'values': [[3]*5, [3, 5, 5, 7, 7], [5]*5, [7]*7, [7, 5, 5, 3, 3] ]\n",
        "        },\n",
        "        'num_neurons_dense':{\n",
        "            'values': [128, 256, 512, 1028]\n",
        "        },\n",
        "        'epochs':{\n",
        "            'values': [10, 20, 30]\n",
        "        }\n",
        "    }\n",
        "}"
      ],
      "metadata": {
        "id": "T8TsuLqgt7Ii"
      },
      "execution_count": 15,
      "outputs": []
    },
    {
      "cell_type": "code",
      "source": [
        "# Create a sweep\n",
        "sweep_id = wandb.sweep(sweep = sweep_config, entity=\"abhinavtk\", project='a2_demo')\n",
        "\n",
        "# Export data to wandb\n",
        "#wandb.log({ 'epoch': epoch, 'loss': cost, 'accuracy': accuracy * 100})\n",
        "#wandb.log({ 'epoch': epoch, 'validation_loss': val_cost, 'validation_accuracy': val_accuracy * 100})\n"
      ],
      "metadata": {
        "colab": {
          "base_uri": "https://localhost:8080/"
        },
        "id": "Bo1UdR6vt3-H",
        "outputId": "61c4ce93-1139-4877-9816-adace2de6c10"
      },
      "execution_count": 16,
      "outputs": [
        {
          "output_type": "stream",
          "name": "stdout",
          "text": [
            "Create sweep with ID: v47bu3jc\n",
            "Sweep URL: https://wandb.ai/abhinavtk/a2_demo/sweeps/v47bu3jc\n"
          ]
        }
      ]
    },
    {
      "cell_type": "code",
      "source": [
        "def main():\n",
        "  with wandb.init() as run:\n",
        "    run_name = \"-#fil_\"+str(wandb.config.filters_num)+\"-ac_fn_\"+wandb.config.act_fn+\"-d_aug_\"\\\n",
        "                  +wandb.config.data_augmentation + \"-norm_\"+wandb.config.batch_normalisation + \"-bs_\"\\\n",
        "                  +str(wandb.config.batch_size) + \"-lr_\"+str(wandb.config.learning_rate)+\\\n",
        "                  \"-ep_\"+str(wandb.config.epochs)\n",
        "\n",
        "    wandb.run.name = run_name\n",
        "\n",
        "    model = CNN(num_filters = wandb.config.filters_num, kernel_size = wandb.config.kernel_size,\n",
        "                 act_fn = wandb.config.act_fn, num_neurons = wandb.config.num_neurons_dense).to(device)\n",
        "    loss_fn = nn.CrossEntropyLoss()\n",
        "    optimizer = optim.SGD(model.parameters(), lr=wandb.config.learning_rate, momentum=0.9)\n",
        "    model.train(model, loss_fn, optimizer, dataloader_train, dataloader_val, n_epochs = wandb.config.epochs)\n",
        "wandb.agent(sweep_id, function = main, count = 10) # calls main function for count number of times\n",
        "wandb.finish()"
      ],
      "metadata": {
        "colab": {
          "base_uri": "https://localhost:8080/",
          "height": 356
        },
        "id": "IqzQfrHN0QZP",
        "outputId": "91c0e66e-9735-4549-814a-f9d3a4e02358"
      },
      "execution_count": null,
      "outputs": [
        {
          "metadata": {
            "tags": null
          },
          "name": "stderr",
          "output_type": "stream",
          "text": [
            "\u001b[34m\u001b[1mwandb\u001b[0m: Agent Starting Run: 0vnawdss with config:\n",
            "\u001b[34m\u001b[1mwandb\u001b[0m: \tact_fn: relu\n",
            "\u001b[34m\u001b[1mwandb\u001b[0m: \tbatch_normalisation: no\n",
            "\u001b[34m\u001b[1mwandb\u001b[0m: \tbatch_size: 32\n",
            "\u001b[34m\u001b[1mwandb\u001b[0m: \tdata_augmentation: yes\n",
            "\u001b[34m\u001b[1mwandb\u001b[0m: \tdropout: 0\n",
            "\u001b[34m\u001b[1mwandb\u001b[0m: \tepochs: 20\n",
            "\u001b[34m\u001b[1mwandb\u001b[0m: \tfilters_num: [32, 64, 64, 128, 128]\n",
            "\u001b[34m\u001b[1mwandb\u001b[0m: \tkernel_size: [7, 7, 7, 7, 7, 7, 7]\n",
            "\u001b[34m\u001b[1mwandb\u001b[0m: \tlearning_rate: 0.001\n",
            "\u001b[34m\u001b[1mwandb\u001b[0m: \tnum_neurons_dense: 128\n"
          ]
        },
        {
          "data": {
            "text/html": [
              "Tracking run with wandb version 0.16.5"
            ],
            "text/plain": [
              "<IPython.core.display.HTML object>"
            ]
          },
          "metadata": {},
          "output_type": "display_data"
        },
        {
          "data": {
            "text/html": [
              "Run data is saved locally in <code>/content/wandb/run-20240401_063425-0vnawdss</code>"
            ],
            "text/plain": [
              "<IPython.core.display.HTML object>"
            ]
          },
          "metadata": {},
          "output_type": "display_data"
        },
        {
          "data": {
            "text/html": [
              "Syncing run <strong><a href='https://wandb.ai/abhinavtk/a2_demo/runs/0vnawdss/workspace' target=\"_blank\">faithful-sweep-1</a></strong> to <a href='https://wandb.ai/abhinavtk/a2_demo' target=\"_blank\">Weights & Biases</a> (<a href='https://wandb.me/run' target=\"_blank\">docs</a>)<br/>Sweep page: <a href='https://wandb.ai/abhinavtk/a2_demo/sweeps/v47bu3jc' target=\"_blank\">https://wandb.ai/abhinavtk/a2_demo/sweeps/v47bu3jc</a>"
            ],
            "text/plain": [
              "<IPython.core.display.HTML object>"
            ]
          },
          "metadata": {},
          "output_type": "display_data"
        },
        {
          "data": {
            "text/html": [
              " View project at <a href='https://wandb.ai/abhinavtk/a2_demo' target=\"_blank\">https://wandb.ai/abhinavtk/a2_demo</a>"
            ],
            "text/plain": [
              "<IPython.core.display.HTML object>"
            ]
          },
          "metadata": {},
          "output_type": "display_data"
        },
        {
          "data": {
            "text/html": [
              " View sweep at <a href='https://wandb.ai/abhinavtk/a2_demo/sweeps/v47bu3jc' target=\"_blank\">https://wandb.ai/abhinavtk/a2_demo/sweeps/v47bu3jc</a>"
            ],
            "text/plain": [
              "<IPython.core.display.HTML object>"
            ]
          },
          "metadata": {},
          "output_type": "display_data"
        },
        {
          "data": {
            "text/html": [
              " View run at <a href='https://wandb.ai/abhinavtk/a2_demo/runs/0vnawdss/workspace' target=\"_blank\">https://wandb.ai/abhinavtk/a2_demo/runs/0vnawdss/workspace</a>"
            ],
            "text/plain": [
              "<IPython.core.display.HTML object>"
            ]
          },
          "metadata": {},
          "output_type": "display_data"
        },
        {
          "metadata": {
            "tags": null
          },
          "name": "stdout",
          "output_type": "stream",
          "text": [
            "2048\n"
          ]
        }
      ]
    },
    {
      "cell_type": "code",
      "source": [],
      "metadata": {
        "id": "82Ljnhgi6Yst"
      },
      "execution_count": null,
      "outputs": []
    }
  ]
}